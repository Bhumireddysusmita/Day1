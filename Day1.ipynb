{
  "nbformat": 4,
  "nbformat_minor": 0,
  "metadata": {
    "colab": {
      "provenance": [],
      "authorship_tag": "ABX9TyPw7MvX4uoMRJETSgFV8qYs",
      "include_colab_link": true
    },
    "kernelspec": {
      "name": "python3",
      "display_name": "Python 3"
    },
    "language_info": {
      "name": "python"
    }
  },
  "cells": [
    {
      "cell_type": "markdown",
      "metadata": {
        "id": "view-in-github",
        "colab_type": "text"
      },
      "source": [
        "<a href=\"https://colab.research.google.com/github/Bhumireddysusmita/Day1/blob/main/Day1.ipynb\" target=\"_parent\"><img src=\"https://colab.research.google.com/assets/colab-badge.svg\" alt=\"Open In Colab\"/></a>"
      ]
    },
    {
      "cell_type": "markdown",
      "source": [],
      "metadata": {
        "id": "BT31GFZTaja0"
      }
    },
    {
      "cell_type": "code",
      "execution_count": 1,
      "metadata": {
        "colab": {
          "base_uri": "https://localhost:8080/"
        },
        "id": "2Nr3oCELabE6",
        "outputId": "ce754e97-4a8d-4b57-a8cf-f3970fce3acb"
      },
      "outputs": [
        {
          "output_type": "stream",
          "name": "stdout",
          "text": [
            "Enter your name: susmita\n",
            "Hello, susmita ! Welcome!\n"
          ]
        }
      ],
      "source": [
        "name = input(\"Enter your name: \")\n",
        "print(\"Hello,\", name, \"! Welcome!\")"
      ]
    },
    {
      "cell_type": "code",
      "source": [
        "print(\"Hello, World!\")"
      ],
      "metadata": {
        "colab": {
          "base_uri": "https://localhost:8080/"
        },
        "id": "9OuMFgtna1gI",
        "outputId": "60bb78e8-ffa9-434a-af08-1faf7ab9dddb"
      },
      "execution_count": 2,
      "outputs": [
        {
          "output_type": "stream",
          "name": "stdout",
          "text": [
            "Hello, World!\n"
          ]
        }
      ]
    },
    {
      "cell_type": "code",
      "source": [
        "\n",
        "s = \"bhumireddy\"\n",
        "print(s)\n",
        "s = \"susmita\"\n",
        "age = 23\n",
        "city = \"Nellore\"\n",
        "print(s, age, city)"
      ],
      "metadata": {
        "colab": {
          "base_uri": "https://localhost:8080/"
        },
        "id": "jBjT1mNYbdQl",
        "outputId": "a80fd08e-91d6-4b93-c3cc-ce0f444f9e9f"
      },
      "execution_count": 4,
      "outputs": [
        {
          "output_type": "stream",
          "name": "stdout",
          "text": [
            "bhumireddy\n",
            "susmita 23 Nellore\n"
          ]
        }
      ]
    },
    {
      "cell_type": "code",
      "source": [
        "x, y = input(\"Enter two values: \").split()\n",
        "print(\"Number of boys: \", x)\n",
        "print(\"Number of girls: \", y)\n",
        "\n",
        "x, y, z = input(\"Enter three values: \").split()\n",
        "print(\"Total number of students: \", x)\n",
        "print(\"Number of boys is : \", y)\n",
        "print(\"Number of girls is : \", z)"
      ],
      "metadata": {
        "colab": {
          "base_uri": "https://localhost:8080/"
        },
        "id": "W62jVJg3bzRg",
        "outputId": "dd91790f-5a88-440b-daa0-669a486e398a"
      },
      "execution_count": 9,
      "outputs": [
        {
          "output_type": "stream",
          "name": "stdout",
          "text": [
            "Enter two values: 2 3\n",
            "Number of boys:  2\n",
            "Number of girls:  3\n",
            "Enter three values: 3 4 5\n",
            "Total number of students:  3\n",
            "Number of boys is :  4\n",
            "Number of girls is :  5\n"
          ]
        }
      ]
    },
    {
      "cell_type": "code",
      "source": [
        "color = input(\"What color is rose?: \")\n",
        "print(color)"
      ],
      "metadata": {
        "colab": {
          "base_uri": "https://localhost:8080/"
        },
        "id": "Z8x6pIONcc5c",
        "outputId": "e644cc83-fe06-4ecb-da2e-12d44b074e65"
      },
      "execution_count": 10,
      "outputs": [
        {
          "output_type": "stream",
          "name": "stdout",
          "text": [
            "What color is rose?: red\n",
            "red\n"
          ]
        }
      ]
    },
    {
      "cell_type": "code",
      "source": [
        "n = int(input(\"How many roses?: \"))\n",
        "print(n)"
      ],
      "metadata": {
        "colab": {
          "base_uri": "https://localhost:8080/"
        },
        "id": "xBYPQJijcjak",
        "outputId": "d227ad44-a4d1-47fa-ea05-730927066f93"
      },
      "execution_count": 11,
      "outputs": [
        {
          "output_type": "stream",
          "name": "stdout",
          "text": [
            "How many roses?: 3\n",
            "3\n"
          ]
        }
      ]
    },
    {
      "cell_type": "code",
      "source": [
        "a = \"Hello World\"\n",
        "b = 10\n",
        "c = 11.22\n",
        "d = (\"Geeks\", \"for\", \"Geeks\")\n",
        "e = [\"Geeks\", \"for\", \"Geeks\"]\n",
        "f = {\"Geeks\": 1, \"for\":2, \"Geeks\":3}\n",
        "\n",
        "\n",
        "print(type(a))\n",
        "print(type(b))\n",
        "print(type(c))\n",
        "print(type(d))\n",
        "print(type(e))\n",
        "print(type(f))"
      ],
      "metadata": {
        "colab": {
          "base_uri": "https://localhost:8080/"
        },
        "id": "9KtHWXBbcWfj",
        "outputId": "15a38b7f-4a9f-4077-b520-c896347369b1"
      },
      "execution_count": 12,
      "outputs": [
        {
          "output_type": "stream",
          "name": "stdout",
          "text": [
            "<class 'str'>\n",
            "<class 'int'>\n",
            "<class 'float'>\n",
            "<class 'tuple'>\n",
            "<class 'list'>\n",
            "<class 'dict'>\n"
          ]
        }
      ]
    },
    {
      "cell_type": "code",
      "source": [
        "\n",
        "x = 5\n",
        "name = \"Susmita\"\n",
        "\n",
        "print(x)\n",
        "print(name)"
      ],
      "metadata": {
        "colab": {
          "base_uri": "https://localhost:8080/"
        },
        "id": "lRwGGgNic6ck",
        "outputId": "98ec2aa2-720d-4a46-87d1-8cbca0025af9"
      },
      "execution_count": 13,
      "outputs": [
        {
          "output_type": "stream",
          "name": "stdout",
          "text": [
            "5\n",
            "Susmita\n"
          ]
        }
      ]
    },
    {
      "cell_type": "code",
      "source": [
        "age = 21\n",
        "_colour = \"lilac\"\n",
        "total_score = 90"
      ],
      "metadata": {
        "id": "iolYJIwhdJEU"
      },
      "execution_count": 16,
      "outputs": []
    },
    {
      "cell_type": "code",
      "source": [
        "1name = \"Error\"\n",
        "class = 10\n",
        "user-name = \"Doe\""
      ],
      "metadata": {
        "colab": {
          "base_uri": "https://localhost:8080/",
          "height": 106
        },
        "id": "d5ridcsLdN7x",
        "outputId": "dc978e63-208d-449b-c163-56d0fd312fc2"
      },
      "execution_count": 17,
      "outputs": [
        {
          "output_type": "error",
          "ename": "SyntaxError",
          "evalue": "invalid decimal literal (ipython-input-128230409.py, line 1)",
          "traceback": [
            "\u001b[0;36m  File \u001b[0;32m\"/tmp/ipython-input-128230409.py\"\u001b[0;36m, line \u001b[0;32m1\u001b[0m\n\u001b[0;31m    1name = \"Error\"\u001b[0m\n\u001b[0m    ^\u001b[0m\n\u001b[0;31mSyntaxError\u001b[0m\u001b[0;31m:\u001b[0m invalid decimal literal\n"
          ]
        }
      ]
    },
    {
      "cell_type": "code",
      "source": [
        "a = b = c = 100\n",
        "print(a, b, c)"
      ],
      "metadata": {
        "colab": {
          "base_uri": "https://localhost:8080/"
        },
        "id": "r82iBjbpdZ3i",
        "outputId": "283eb63f-ed5f-4609-a70b-16b532f6d296"
      },
      "execution_count": 18,
      "outputs": [
        {
          "output_type": "stream",
          "name": "stdout",
          "text": [
            "100 100 100\n"
          ]
        }
      ]
    },
    {
      "cell_type": "code",
      "source": [
        "x, y, z = 1, 2.5, \"Python\"\n",
        "print(x, y, z)"
      ],
      "metadata": {
        "colab": {
          "base_uri": "https://localhost:8080/"
        },
        "id": "wVufUh_Bdlol",
        "outputId": "5937585c-acf3-40c8-cdb7-62361f48c659"
      },
      "execution_count": 19,
      "outputs": [
        {
          "output_type": "stream",
          "name": "stdout",
          "text": [
            "1 2.5 Python\n"
          ]
        }
      ]
    },
    {
      "cell_type": "code",
      "source": [
        "\n",
        "s = \"10\"\n",
        "n = int(s)\n",
        "cnt = 5\n",
        "f = float(cnt)\n",
        "age = 25\n",
        "s2 = str(age)\n",
        "\n",
        "print(n)\n",
        "print(f)\n",
        "print(s2)"
      ],
      "metadata": {
        "colab": {
          "base_uri": "https://localhost:8080/"
        },
        "id": "yDtmSbH9dlPt",
        "outputId": "51c431ea-d9ca-477a-f2db-4f5ef86eda57"
      },
      "execution_count": 20,
      "outputs": [
        {
          "output_type": "stream",
          "name": "stdout",
          "text": [
            "10\n",
            "5.0\n",
            "25\n"
          ]
        }
      ]
    },
    {
      "cell_type": "code",
      "source": [
        "\n",
        "n = 42\n",
        "f = 3.14\n",
        "s = \"Hello, World!\"\n",
        "li = [1, 2, 3]\n",
        "d = {'key': 'value'}\n",
        "bool = True\n",
        "\n",
        "print(type(n))\n",
        "print(type(f))\n",
        "print(type(s))\n",
        "print(type(li))\n",
        "print(type(d))\n",
        "print(type(bool))"
      ],
      "metadata": {
        "colab": {
          "base_uri": "https://localhost:8080/"
        },
        "id": "9z8qHEbZd328",
        "outputId": "4f5bebd5-bf03-4de6-c2a5-8b72f60ee342"
      },
      "execution_count": 21,
      "outputs": [
        {
          "output_type": "stream",
          "name": "stdout",
          "text": [
            "<class 'int'>\n",
            "<class 'float'>\n",
            "<class 'str'>\n",
            "<class 'list'>\n",
            "<class 'dict'>\n",
            "<class 'bool'>\n"
          ]
        }
      ]
    },
    {
      "cell_type": "code",
      "source": [
        "\n",
        "x = 10\n",
        "print(x)\n",
        "del x\n"
      ],
      "metadata": {
        "colab": {
          "base_uri": "https://localhost:8080/"
        },
        "id": "49tUfTg7d_gQ",
        "outputId": "a34cff33-bb09-493a-d405-99a93e944264"
      },
      "execution_count": 23,
      "outputs": [
        {
          "output_type": "stream",
          "name": "stdout",
          "text": [
            "10\n"
          ]
        }
      ]
    },
    {
      "cell_type": "code",
      "source": [
        "a, b = 5, 10\n",
        "a, b = b, a\n",
        "print(a, b)"
      ],
      "metadata": {
        "colab": {
          "base_uri": "https://localhost:8080/"
        },
        "id": "ZGGkUMqXeIg2",
        "outputId": "2a445ac0-67a4-45da-997e-75b72fe1e235"
      },
      "execution_count": 24,
      "outputs": [
        {
          "output_type": "stream",
          "name": "stdout",
          "text": [
            "10 5\n"
          ]
        }
      ]
    },
    {
      "cell_type": "code",
      "source": [
        "word = \"Python\"\n",
        "length = len(word)\n",
        "print(\"Length of the word:\", length)"
      ],
      "metadata": {
        "colab": {
          "base_uri": "https://localhost:8080/"
        },
        "id": "8I_aN6pPeRLq",
        "outputId": "21eb513f-932f-405d-87c7-b6541fe0a5c0"
      },
      "execution_count": 25,
      "outputs": [
        {
          "output_type": "stream",
          "name": "stdout",
          "text": [
            "Length of the word: 6\n"
          ]
        }
      ]
    },
    {
      "cell_type": "code",
      "source": [
        "\n",
        "a = 15\n",
        "b = 4\n",
        "print(\"Addition:\", a + b)\n",
        "print(\"Subtraction:\", a - b)\n",
        "print(\"Multiplication:\", a * b)\n",
        "print(\"Division:\", a / b)\n",
        "print(\"Floor Division:\", a // b)\n",
        "print(\"Modulus:\", a % b)\n",
        "print(\"Exponentiation:\", a ** b)"
      ],
      "metadata": {
        "colab": {
          "base_uri": "https://localhost:8080/"
        },
        "id": "StjktyRLeZT_",
        "outputId": "af9a0f84-c2f8-44ae-eb6d-b1f523ea9243"
      },
      "execution_count": 26,
      "outputs": [
        {
          "output_type": "stream",
          "name": "stdout",
          "text": [
            "Addition: 19\n",
            "Subtraction: 11\n",
            "Multiplication: 60\n",
            "Division: 3.75\n",
            "Floor Division: 3\n",
            "Modulus: 3\n",
            "Exponentiation: 50625\n"
          ]
        }
      ]
    },
    {
      "cell_type": "code",
      "source": [
        "a = 13\n",
        "b = 33\n",
        "print(a > b)\n",
        "print(a < b)\n",
        "print(a == b)\n",
        "print(a != b)\n",
        "print(a >= b)\n",
        "print(a <= b)"
      ],
      "metadata": {
        "colab": {
          "base_uri": "https://localhost:8080/"
        },
        "id": "tpJOuO0leY_A",
        "outputId": "558cc8b8-2610-47bb-85e5-ea1ee363f92a"
      },
      "execution_count": 27,
      "outputs": [
        {
          "output_type": "stream",
          "name": "stdout",
          "text": [
            "False\n",
            "True\n",
            "False\n",
            "True\n",
            "False\n",
            "True\n"
          ]
        }
      ]
    },
    {
      "cell_type": "code",
      "source": [
        "a = True\n",
        "b = False\n",
        "print(a and b)\n",
        "print(a or b)\n",
        "print(not a)"
      ],
      "metadata": {
        "colab": {
          "base_uri": "https://localhost:8080/"
        },
        "id": "Xrv7AHZTe4Hs",
        "outputId": "1340d9ce-efcf-41e0-a1ce-7bd77e2f5a50"
      },
      "execution_count": 28,
      "outputs": [
        {
          "output_type": "stream",
          "name": "stdout",
          "text": [
            "False\n",
            "True\n",
            "False\n"
          ]
        }
      ]
    },
    {
      "cell_type": "code",
      "source": [
        "a = 10\n",
        "b = 4\n",
        "\n",
        "print(a & b)\n",
        "print(a | b)\n",
        "print(~a)\n",
        "print(a ^ b)\n",
        "print(a >> 2)\n",
        "print(a << 2)"
      ],
      "metadata": {
        "colab": {
          "base_uri": "https://localhost:8080/"
        },
        "id": "0nNq6UK3e7yB",
        "outputId": "cdb01aa9-b97d-4fc1-d7d5-d203877a00d8"
      },
      "execution_count": 29,
      "outputs": [
        {
          "output_type": "stream",
          "name": "stdout",
          "text": [
            "0\n",
            "14\n",
            "-11\n",
            "14\n",
            "2\n",
            "40\n"
          ]
        }
      ]
    },
    {
      "cell_type": "code",
      "source": [
        "a = 10\n",
        "b = a\n",
        "print(b)\n",
        "b += a\n",
        "print(b)\n",
        "b -= a\n",
        "print(b)\n",
        "b *= a\n",
        "print(b)\n",
        "b <<= a\n",
        "print(b)"
      ],
      "metadata": {
        "id": "KFZ4mIJ4e_9f"
      },
      "execution_count": null,
      "outputs": []
    },
    {
      "cell_type": "code",
      "source": [
        "a = 10\n",
        "b = 20\n",
        "c = a\n",
        "\n",
        "print(a is not b)\n",
        "print(a is c)"
      ],
      "metadata": {
        "colab": {
          "base_uri": "https://localhost:8080/"
        },
        "id": "haX2sAPrfDC1",
        "outputId": "f785a6ff-8043-4484-9977-42e3a4f0c443"
      },
      "execution_count": 30,
      "outputs": [
        {
          "output_type": "stream",
          "name": "stdout",
          "text": [
            "True\n",
            "True\n"
          ]
        }
      ]
    },
    {
      "cell_type": "code",
      "source": [
        "x = 24\n",
        "y = 20\n",
        "list = [10, 20, 30, 40, 50]\n",
        "\n",
        "if (x not in list):\n",
        "    print(\"x is NOT present in given list\")\n",
        "else:\n",
        "    print(\"x is present in given list\")\n",
        "\n",
        "if (y in list):\n",
        "    print(\"y is present in given list\")\n",
        "else:\n",
        "    print(\"y is NOT present in given list\")"
      ],
      "metadata": {
        "colab": {
          "base_uri": "https://localhost:8080/"
        },
        "id": "vVW_KE4AfIgZ",
        "outputId": "7d2c3d26-8b6c-4e4a-cce3-b49e840e4506"
      },
      "execution_count": 31,
      "outputs": [
        {
          "output_type": "stream",
          "name": "stdout",
          "text": [
            "x is NOT present in given list\n",
            "y is present in given list\n"
          ]
        }
      ]
    },
    {
      "cell_type": "code",
      "source": [
        "a, b = 10, 20\n",
        "min = a if a < b else b\n",
        "print(min)"
      ],
      "metadata": {
        "colab": {
          "base_uri": "https://localhost:8080/"
        },
        "id": "7dWE6zDpfNKd",
        "outputId": "c7ffb256-0f58-4283-a774-2753f3b98eb0"
      },
      "execution_count": 32,
      "outputs": [
        {
          "output_type": "stream",
          "name": "stdout",
          "text": [
            "10\n"
          ]
        }
      ]
    },
    {
      "cell_type": "code",
      "source": [
        "print(100 / 10 * 10)\n",
        "print(5 - 2 + 3)\n",
        "print(5 - (2 + 3))\n",
        "print(2 ** 3 ** 2)"
      ],
      "metadata": {
        "colab": {
          "base_uri": "https://localhost:8080/"
        },
        "id": "73rdq0V4fWR5",
        "outputId": "083ce840-b0cb-479c-c6a2-045c42bae5b1"
      },
      "execution_count": 33,
      "outputs": [
        {
          "output_type": "stream",
          "name": "stdout",
          "text": [
            "100.0\n",
            "6\n",
            "0\n",
            "512\n"
          ]
        }
      ]
    },
    {
      "cell_type": "code",
      "source": [
        "import keyword\n",
        "\n",
        "# printing all keywords at once using \"kwlist()\"\n",
        "print(\"The list of keywords is : \")\n",
        "print(keyword.kwlist)"
      ],
      "metadata": {
        "colab": {
          "base_uri": "https://localhost:8080/"
        },
        "id": "YnxtUaT-fcDZ",
        "outputId": "2a38b354-6d59-4b09-f0b7-4bc7bcc3450b"
      },
      "execution_count": 34,
      "outputs": [
        {
          "output_type": "stream",
          "name": "stdout",
          "text": [
            "The list of keywords is : \n",
            "['False', 'None', 'True', 'and', 'as', 'assert', 'async', 'await', 'break', 'class', 'continue', 'def', 'del', 'elif', 'else', 'except', 'finally', 'for', 'from', 'global', 'if', 'import', 'in', 'is', 'lambda', 'nonlocal', 'not', 'or', 'pass', 'raise', 'return', 'try', 'while', 'with', 'yield']\n"
          ]
        }
      ]
    }
  ]
}