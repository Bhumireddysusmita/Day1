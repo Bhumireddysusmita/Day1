{
  "nbformat": 4,
  "nbformat_minor": 0,
  "metadata": {
    "colab": {
      "provenance": [],
      "authorship_tag": "ABX9TyOaOM3ahU17Ns4cyOD8SSj8",
      "include_colab_link": true
    },
    "kernelspec": {
      "name": "python3",
      "display_name": "Python 3"
    },
    "language_info": {
      "name": "python"
    }
  },
  "cells": [
    {
      "cell_type": "markdown",
      "metadata": {
        "id": "view-in-github",
        "colab_type": "text"
      },
      "source": [
        "<a href=\"https://colab.research.google.com/github/Bhumireddysusmita/Day1/blob/main/Day4.ipynb\" target=\"_parent\"><img src=\"https://colab.research.google.com/assets/colab-badge.svg\" alt=\"Open In Colab\"/></a>"
      ]
    },
    {
      "cell_type": "code",
      "execution_count": 1,
      "metadata": {
        "colab": {
          "base_uri": "https://localhost:8080/"
        },
        "id": "JH95899SNTeH",
        "outputId": "0ca7d612-8fdf-47da-97a2-48f6fc2a119d"
      },
      "outputs": [
        {
          "output_type": "stream",
          "name": "stdout",
          "text": [
            "Hello\n"
          ]
        }
      ],
      "source": [
        "def fun1(msg):\n",
        "  def fun2():\n",
        "    print(msg)\n",
        "  fun2()\n",
        "fun1(\"Hello\")\n"
      ]
    },
    {
      "cell_type": "code",
      "source": [
        "def fun1():\n",
        "  msg=\" hii! Susmita\"\n",
        "  def fun2():\n",
        "    print(msg)\n",
        "  fun2()\n",
        "fun1()"
      ],
      "metadata": {
        "colab": {
          "base_uri": "https://localhost:8080/"
        },
        "id": "NCEWU_jkYBrt",
        "outputId": "665dc07a-3caa-4896-de9d-7c9461dea20d"
      },
      "execution_count": 3,
      "outputs": [
        {
          "output_type": "stream",
          "name": "stdout",
          "text": [
            " hii! Susmita\n"
          ]
        }
      ]
    },
    {
      "cell_type": "code",
      "source": [
        "def fun1():\n",
        "  a=23\n",
        "  def fun2():\n",
        "    nonlocal a\n",
        "    a=45\n",
        "    print(a)\n",
        "  fun2()\n",
        "  print(a)\n",
        "fun1()"
      ],
      "metadata": {
        "colab": {
          "base_uri": "https://localhost:8080/"
        },
        "id": "IRRzYczfZqGC",
        "outputId": "13d0795a-e512-47d7-dd5d-e1933361d949"
      },
      "execution_count": 5,
      "outputs": [
        {
          "output_type": "stream",
          "name": "stdout",
          "text": [
            "45\n",
            "45\n"
          ]
        }
      ]
    },
    {
      "cell_type": "code",
      "source": [
        "def fun1(a):\n",
        "  def fun2():\n",
        "    print(a)\n",
        "  return fun2\n",
        "closure_func=fun1(\"Hello, closure\")\n",
        "closure_func()\n"
      ],
      "metadata": {
        "colab": {
          "base_uri": "https://localhost:8080/"
        },
        "id": "rhHS9kCEbJ9p",
        "outputId": "05b03b59-53d0-4254-fc8a-d38183ae304d"
      },
      "execution_count": 6,
      "outputs": [
        {
          "output_type": "stream",
          "name": "stdout",
          "text": [
            "Hello, closure\n"
          ]
        }
      ]
    },
    {
      "cell_type": "code",
      "source": [
        "def fun1(func):\n",
        "    def fun2():\n",
        "        print(\"hii\")\n",
        "        func()\n",
        "        print(\"exit\")\n",
        "    return fun2\n",
        "@fun1\n",
        "def greet():\n",
        "    print(\"hello\")\n",
        "greet()"
      ],
      "metadata": {
        "colab": {
          "base_uri": "https://localhost:8080/"
        },
        "id": "GMwze4g_iriY",
        "outputId": "f36b1f97-a348-4fa7-dfdb-e7393c44ce49"
      },
      "execution_count": 7,
      "outputs": [
        {
          "output_type": "stream",
          "name": "stdout",
          "text": [
            "hii\n",
            "hello\n",
            "exit\n"
          ]
        }
      ]
    },
    {
      "cell_type": "code",
      "source": [
        "\n",
        "def greet(n):\n",
        "    return f\"Hello, {n}!\"\n",
        "say_hi = greet\n",
        "print(say_hi(\"Alice\"))\n",
        "\n",
        "def apply(f, v):\n",
        "    return f(v)\n",
        "res = apply(say_hi, \"Bob\")\n",
        "print(res)\n",
        "\n",
        "def make_mult(f):\n",
        "    def mult(x):\n",
        "        return x * f\n",
        "    return mult\n",
        "dbl = make_mult(2)\n",
        "print(dbl(5))"
      ],
      "metadata": {
        "colab": {
          "base_uri": "https://localhost:8080/"
        },
        "id": "hxPv8ze7_Q-9",
        "outputId": "c3a086f4-6d05-4267-fe38-79ec020d56b2"
      },
      "execution_count": 8,
      "outputs": [
        {
          "output_type": "stream",
          "name": "stdout",
          "text": [
            "Hello, Alice!\n",
            "Hello, Bob!\n",
            "10\n"
          ]
        }
      ]
    },
    {
      "cell_type": "code",
      "source": [
        "def fun1(func):\n",
        "    def fun2():\n",
        "        print(\">>> Starting function\")\n",
        "        func()\n",
        "        print(\">>> Function finished\")\n",
        "    return fun2\n",
        "\n",
        "@fun1\n",
        "def greet():\n",
        "    print(\"Hello, World!\")\n",
        "greet()"
      ],
      "metadata": {
        "colab": {
          "base_uri": "https://localhost:8080/"
        },
        "id": "KLTy-CGH_gp1",
        "outputId": "48a99245-0816-442e-9f86-df45f9c8eb07"
      },
      "execution_count": 9,
      "outputs": [
        {
          "output_type": "stream",
          "name": "stdout",
          "text": [
            ">>> Starting function\n",
            "Hello, World!\n",
            ">>> Function finished\n"
          ]
        }
      ]
    },
    {
      "cell_type": "code",
      "source": [
        "s1 = 'GfG'  # single quote\n",
        "s2 = \"GfG\"  # double quote\n",
        "print(s1)\n",
        "print(s2)"
      ],
      "metadata": {
        "colab": {
          "base_uri": "https://localhost:8080/"
        },
        "id": "jBSJS9-ASgIh",
        "outputId": "026ef94d-3e8e-4985-ff08-0ad2aa87cc2a"
      },
      "execution_count": 10,
      "outputs": [
        {
          "output_type": "stream",
          "name": "stdout",
          "text": [
            "GfG\n",
            "GfG\n"
          ]
        }
      ]
    },
    {
      "cell_type": "code",
      "source": [
        "s = \"susmita\"\n",
        "print(s[0])   # first character\n",
        "print(s[4])   # 5th character"
      ],
      "metadata": {
        "colab": {
          "base_uri": "https://localhost:8080/"
        },
        "id": "5DYcEOnJSqlO",
        "outputId": "c5d61ff1-c997-4992-d5a4-49d7df22e067"
      },
      "execution_count": 11,
      "outputs": [
        {
          "output_type": "stream",
          "name": "stdout",
          "text": [
            "s\n",
            "i\n"
          ]
        }
      ]
    },
    {
      "cell_type": "code",
      "source": [
        "s = \"susmita\"\n",
        "print(s[1:4])\n",
        "print(s[:3])\n",
        "print(s[3:])\n",
        "print(s[::-1])"
      ],
      "metadata": {
        "colab": {
          "base_uri": "https://localhost:8080/"
        },
        "id": "6uY2n221Sws1",
        "outputId": "992b4196-cfa9-49af-bdde-9e464fab9078"
      },
      "execution_count": 12,
      "outputs": [
        {
          "output_type": "stream",
          "name": "stdout",
          "text": [
            "usm\n",
            "sus\n",
            "mita\n",
            "atimsus\n"
          ]
        }
      ]
    },
    {
      "cell_type": "code",
      "source": [
        "s = \"Python\"\n",
        "for char in s:\n",
        "    print(char)"
      ],
      "metadata": {
        "colab": {
          "base_uri": "https://localhost:8080/"
        },
        "id": "FPNmzNArTCn9",
        "outputId": "2a4efc3d-5165-4619-c49d-f8d76c87390d"
      },
      "execution_count": 13,
      "outputs": [
        {
          "output_type": "stream",
          "name": "stdout",
          "text": [
            "P\n",
            "y\n",
            "t\n",
            "h\n",
            "o\n",
            "n\n"
          ]
        }
      ]
    },
    {
      "cell_type": "code",
      "source": [
        "s = \"   Gfg   \"\n",
        "print(s.strip())\n",
        "\n",
        "s = \"Python is fun\"\n",
        "print(s.replace(\"fun\", \"awesome\"))"
      ],
      "metadata": {
        "colab": {
          "base_uri": "https://localhost:8080/"
        },
        "id": "HDwlglsDTCWy",
        "outputId": "4c5fd52a-72fb-4bd5-e777-fce551e3b3a5"
      },
      "execution_count": 15,
      "outputs": [
        {
          "output_type": "stream",
          "name": "stdout",
          "text": [
            "Gfg\n",
            "Python is awesome\n"
          ]
        }
      ]
    },
    {
      "cell_type": "code",
      "source": [
        "name = \"Alice\"\n",
        "age = 22\n",
        "print(f\"Name: {name}, Age: {age}\")"
      ],
      "metadata": {
        "colab": {
          "base_uri": "https://localhost:8080/"
        },
        "id": "vEv7YZhzTbbi",
        "outputId": "2c9a85b5-6c7b-4143-c491-f6519422caad"
      },
      "execution_count": 16,
      "outputs": [
        {
          "output_type": "stream",
          "name": "stdout",
          "text": [
            "Name: Alice, Age: 22\n"
          ]
        }
      ]
    },
    {
      "cell_type": "code",
      "source": [
        "a = [1, 2, 3, 4, 5]\n",
        "b = ['apple', 'banana', 'cherry']\n",
        "c = [1, 'hello', 3.14, True]\n",
        "\n",
        "print(a)\n",
        "print(b)\n",
        "print(c)"
      ],
      "metadata": {
        "colab": {
          "base_uri": "https://localhost:8080/"
        },
        "id": "_jHd9_bxTsrW",
        "outputId": "31a3a013-6ce1-4d64-8784-3ec2fdc5cd8e"
      },
      "execution_count": 17,
      "outputs": [
        {
          "output_type": "stream",
          "name": "stdout",
          "text": [
            "[1, 2, 3, 4, 5]\n",
            "['apple', 'banana', 'cherry']\n",
            "[1, 'hello', 3.14, True]\n"
          ]
        }
      ]
    },
    {
      "cell_type": "code",
      "source": [
        "a = [10, 20, 30, 40, 50]\n",
        "print(a[0])\n",
        "print(a[-1])\n",
        "print(a[1:4])"
      ],
      "metadata": {
        "colab": {
          "base_uri": "https://localhost:8080/"
        },
        "id": "8cvzm0rTTsaT",
        "outputId": "69fea99e-9b82-40d2-c523-9b7f0f538594"
      },
      "execution_count": 18,
      "outputs": [
        {
          "output_type": "stream",
          "name": "stdout",
          "text": [
            "10\n",
            "50\n",
            "[20, 30, 40]\n"
          ]
        }
      ]
    },
    {
      "cell_type": "code",
      "source": [
        "a = []\n",
        "\n",
        "a.append(10)\n",
        "print(\"After append(10):\", a)\n",
        "\n",
        "a.insert(0, 5)\n",
        "print(\"After insert(0, 5):\", a)\n",
        "\n",
        "a.extend([15, 20, 25])\n",
        "print(\"After extend([15, 20, 25]):\", a)\n",
        "\n",
        "a.clear()\n",
        "print(\"After clear():\", a)"
      ],
      "metadata": {
        "colab": {
          "base_uri": "https://localhost:8080/"
        },
        "id": "5GvHgvy6UZfj",
        "outputId": "fee59f1a-0e39-4ebd-8f9b-a5468ba58192"
      },
      "execution_count": 20,
      "outputs": [
        {
          "output_type": "stream",
          "name": "stdout",
          "text": [
            "After append(10): [10]\n",
            "After insert(0, 5): [5, 10]\n",
            "After extend([15, 20, 25]): [5, 10, 15, 20, 25]\n",
            "After clear(): []\n"
          ]
        }
      ]
    },
    {
      "cell_type": "code",
      "source": [
        "a = [10, 20, 30, 40, 50]\n",
        "a[1] = 25\n",
        "print(a)"
      ],
      "metadata": {
        "colab": {
          "base_uri": "https://localhost:8080/"
        },
        "id": "PqpyyU-DUftz",
        "outputId": "7e87ad8f-4689-457a-b781-499a6cbe820b"
      },
      "execution_count": 21,
      "outputs": [
        {
          "output_type": "stream",
          "name": "stdout",
          "text": [
            "[10, 25, 30, 40, 50]\n"
          ]
        }
      ]
    },
    {
      "cell_type": "code",
      "source": [
        "a.remove(30)\n",
        "print(\"After remove(30):\", a)\n"
      ],
      "metadata": {
        "colab": {
          "base_uri": "https://localhost:8080/"
        },
        "id": "zSJHeGFsUnVy",
        "outputId": "0f510794-5afe-49ca-f7c9-5e422c3c197a"
      },
      "execution_count": 22,
      "outputs": [
        {
          "output_type": "stream",
          "name": "stdout",
          "text": [
            "After remove(30): [10, 25, 40, 50]\n"
          ]
        }
      ]
    },
    {
      "cell_type": "code",
      "source": [
        "a = ['apple', 'banana', 'cherry']\n",
        "for item in a:\n",
        "    print(item)"
      ],
      "metadata": {
        "colab": {
          "base_uri": "https://localhost:8080/"
        },
        "id": "-Jr4200XUrYG",
        "outputId": "1915ff65-0ccc-436a-98a1-b8b56aace7de"
      },
      "execution_count": 23,
      "outputs": [
        {
          "output_type": "stream",
          "name": "stdout",
          "text": [
            "apple\n",
            "banana\n",
            "cherry\n"
          ]
        }
      ]
    },
    {
      "cell_type": "code",
      "source": [
        "tup = (5, 'Welcome', 7, 'Geeks')\n",
        "print(tup)"
      ],
      "metadata": {
        "colab": {
          "base_uri": "https://localhost:8080/"
        },
        "id": "Uul0h9cRV0Zg",
        "outputId": "11694ba9-5372-483e-d247-c76c171568f8"
      },
      "execution_count": 24,
      "outputs": [
        {
          "output_type": "stream",
          "name": "stdout",
          "text": [
            "(5, 'Welcome', 7, 'Geeks')\n"
          ]
        }
      ]
    },
    {
      "cell_type": "code",
      "source": [
        "\n",
        "tup = tuple(\"Geeks\")\n",
        "print(tup[0])\n",
        "print(tup[1:4])\n",
        "print(tup[:3])\n",
        "tup = (\"Geeks\", \"For\", \"Geeks\")\n",
        "a, b, c = tup\n",
        "print(a)\n",
        "print(b)\n",
        "print(c)"
      ],
      "metadata": {
        "colab": {
          "base_uri": "https://localhost:8080/"
        },
        "id": "DDHuJsZzWDei",
        "outputId": "bcb5fe46-63cb-4bb6-907e-1828254fb273"
      },
      "execution_count": 25,
      "outputs": [
        {
          "output_type": "stream",
          "name": "stdout",
          "text": [
            "G\n",
            "('e', 'e', 'k')\n",
            "('G', 'e', 'e')\n",
            "Geeks\n",
            "For\n",
            "Geeks\n"
          ]
        }
      ]
    },
    {
      "cell_type": "code",
      "source": [
        "tup1 = (0, 1, 2, 3)\n",
        "tup2 = ('Geeks', 'For', 'Geeks')\n",
        "\n",
        "tup3 = tup1 + tup2\n",
        "print(tup3)"
      ],
      "metadata": {
        "colab": {
          "base_uri": "https://localhost:8080/"
        },
        "id": "_BWbkUStWTaL",
        "outputId": "8b36b734-0bf6-4405-dfc3-f86397f1fe03"
      },
      "execution_count": 26,
      "outputs": [
        {
          "output_type": "stream",
          "name": "stdout",
          "text": [
            "(0, 1, 2, 3, 'Geeks', 'For', 'Geeks')\n"
          ]
        }
      ]
    },
    {
      "cell_type": "code",
      "source": [
        "tup = tuple('GEEKSFORGEEKS')\n",
        "print(tup[1:])\n",
        "print(tup[::-1])\n",
        "print(tup[4:9])"
      ],
      "metadata": {
        "colab": {
          "base_uri": "https://localhost:8080/"
        },
        "id": "fl0zlOnDWctl",
        "outputId": "48dcdd51-7ae0-47dc-fccf-a61598770649"
      },
      "execution_count": 27,
      "outputs": [
        {
          "output_type": "stream",
          "name": "stdout",
          "text": [
            "('E', 'E', 'K', 'S', 'F', 'O', 'R', 'G', 'E', 'E', 'K', 'S')\n",
            "('S', 'K', 'E', 'E', 'G', 'R', 'O', 'F', 'S', 'K', 'E', 'E', 'G')\n",
            "('S', 'F', 'O', 'R', 'G')\n"
          ]
        }
      ]
    },
    {
      "cell_type": "code",
      "source": [
        "tup = (1, 2, 3, 4, 5)\n",
        "\n",
        "a, *b, c = tup\n",
        "\n",
        "print(a)\n",
        "print(b)\n",
        "print(c)"
      ],
      "metadata": {
        "colab": {
          "base_uri": "https://localhost:8080/"
        },
        "id": "cpe4h099W-Kf",
        "outputId": "4e474ede-e55f-466d-8ee1-fd96743c69fb"
      },
      "execution_count": 30,
      "outputs": [
        {
          "output_type": "stream",
          "name": "stdout",
          "text": [
            "1\n",
            "[2, 3, 4]\n",
            "5\n"
          ]
        }
      ]
    }
  ]
}