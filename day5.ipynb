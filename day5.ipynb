{
  "nbformat": 4,
  "nbformat_minor": 0,
  "metadata": {
    "colab": {
      "provenance": [],
      "authorship_tag": "ABX9TyPN+mqcJ79eH7GYF3dqHVUb",
      "include_colab_link": true
    },
    "kernelspec": {
      "name": "python3",
      "display_name": "Python 3"
    },
    "language_info": {
      "name": "python"
    }
  },
  "cells": [
    {
      "cell_type": "markdown",
      "metadata": {
        "id": "view-in-github",
        "colab_type": "text"
      },
      "source": [
        "<a href=\"https://colab.research.google.com/github/Bhumireddysusmita/Day1/blob/main/day5.ipynb\" target=\"_parent\"><img src=\"https://colab.research.google.com/assets/colab-badge.svg\" alt=\"Open In Colab\"/></a>"
      ]
    },
    {
      "cell_type": "code",
      "execution_count": 23,
      "metadata": {
        "colab": {
          "base_uri": "https://localhost:8080/"
        },
        "id": "vdClKF_uuPqd",
        "outputId": "54a20154-8627-4d33-c24d-5ee6beb36a3c"
      },
      "outputs": [
        {
          "output_type": "stream",
          "name": "stdout",
          "text": [
            "{1: 'susi', 2: 'bhumireddy', 3: 'susmita'}\n",
            "{'name': 'susi', 'b': 'bhumireddy', 'c': 'susmita'}\n",
            "susi\n",
            "bhumireddy\n"
          ]
        }
      ],
      "source": [
        "d1={1:\"susi\",2:\"bhumireddy\",3:\"susmita\"}\n",
        "print(d1)\n",
        "d2=dict(name=\"susi\",b=\"bhumireddy\",c=\"susmita\")\n",
        "print(d2)\n",
        "print(d1[1])\n",
        "print(d2.get(\"b\"))\n",
        "\n"
      ]
    },
    {
      "cell_type": "code",
      "source": [
        "d1={1:\"susi\",2:\"bhumireddy\",3:\"susmita\"}\n",
        "d1[\"age\"]=23\n",
        "print(d1)\n",
        "d1[1]=\"sushmitha\"\n",
        "print(d1)"
      ],
      "metadata": {
        "colab": {
          "base_uri": "https://localhost:8080/"
        },
        "id": "EDLCeGC9WGxx",
        "outputId": "5bf49d93-3035-4265-a619-f7b8c4a80f9e"
      },
      "execution_count": 27,
      "outputs": [
        {
          "output_type": "stream",
          "name": "stdout",
          "text": [
            "{1: 'susi', 2: 'bhumireddy', 3: 'susmita', 'age': 23}\n",
            "{1: 'sushmitha', 2: 'bhumireddy', 3: 'susmita', 'age': 23}\n"
          ]
        }
      ]
    },
    {
      "cell_type": "code",
      "source": [
        "d1={1:\"susi\",2:\"bhumireddy\",3:\"susmita\"}\n",
        "del d1[1]\n",
        "print(d1)\n",
        "val=d1.pop(2)\n",
        "print(val)\n",
        "d1.clear()\n",
        "print(d1)"
      ],
      "metadata": {
        "colab": {
          "base_uri": "https://localhost:8080/"
        },
        "id": "1immrJS9hRrr",
        "outputId": "d4c26c43-180c-4cdd-c56b-f00d74373a5e"
      },
      "execution_count": 31,
      "outputs": [
        {
          "output_type": "stream",
          "name": "stdout",
          "text": [
            "{2: 'bhumireddy', 3: 'susmita'}\n",
            "bhumireddy\n",
            "{}\n",
            "{2: 'bhumireddy', 3: 'susmita'}\n",
            "bhumireddy\n",
            "{}\n"
          ]
        }
      ]
    },
    {
      "cell_type": "code",
      "source": [
        "s={1,2,3,4,5,3}\n",
        "print(s)\n",
        "s=set([1,2,3,2,5])\n",
        "print(s)\n",
        "s=set((1,2,2,3,4,5))\n",
        "print(s)\n",
        "s=set(\"susmita\")\n",
        "print(s)"
      ],
      "metadata": {
        "colab": {
          "base_uri": "https://localhost:8080/"
        },
        "id": "vppxt947qgaq",
        "outputId": "f1bc153e-2819-4bbb-83bf-8f10c29f9e70"
      },
      "execution_count": 35,
      "outputs": [
        {
          "output_type": "stream",
          "name": "stdout",
          "text": [
            "{1, 2, 3, 4, 5}\n",
            "{1, 2, 3, 5}\n",
            "{1, 2, 3, 4, 5}\n",
            "{'t', 'u', 'a', 'i', 's', 'm'}\n"
          ]
        }
      ]
    },
    {
      "cell_type": "code",
      "source": [
        "s={1,2,3,4,5,3}\n",
        "s.add(6)\n",
        "print(s)\n",
        "s.update([7,8])\n",
        "print(s)"
      ],
      "metadata": {
        "colab": {
          "base_uri": "https://localhost:8080/"
        },
        "id": "LAKzMD6dtJ8m",
        "outputId": "049fb46e-34b3-4a05-9549-ad3ad3e5703a"
      },
      "execution_count": 39,
      "outputs": [
        {
          "output_type": "stream",
          "name": "stdout",
          "text": [
            "{1, 2, 3, 4, 5, 6}\n",
            "{1, 2, 3, 4, 5, 6, 7, 8}\n"
          ]
        }
      ]
    },
    {
      "cell_type": "code",
      "source": [
        "s=set([\"python\",\"java\",\"c\"])\n",
        "for i in s:\n",
        "  print(i,end=\" \")\n",
        "print(\"python\" in s)"
      ],
      "metadata": {
        "colab": {
          "base_uri": "https://localhost:8080/"
        },
        "id": "GHYgmnNfu02f",
        "outputId": "b0472939-24e2-499c-e4c8-dc9d70342417"
      },
      "execution_count": 40,
      "outputs": [
        {
          "output_type": "stream",
          "name": "stdout",
          "text": [
            "python c java True\n"
          ]
        }
      ]
    },
    {
      "cell_type": "code",
      "source": [
        "a = [1, \"Hello\", [3.14, \"world\"]]\n",
        "a.append(2)\n",
        "print(a)"
      ],
      "metadata": {
        "id": "TDqxajN2B03l",
        "outputId": "53372b3b-d568-4747-8c21-3fddf3f3de28",
        "colab": {
          "base_uri": "https://localhost:8080/"
        }
      },
      "execution_count": 41,
      "outputs": [
        {
          "output_type": "stream",
          "name": "stdout",
          "text": [
            "[1, 'Hello', [3.14, 'world'], 2]\n"
          ]
        }
      ]
    },
    {
      "cell_type": "code",
      "source": [
        "import numpy as np\n",
        "\n",
        "a = np.array([1, 2, 3, 4])\n",
        "print(a * 2)\n",
        "\n",
        "res = np.array([[1, 2], [3, 4]])\n",
        "print(res * 2)"
      ],
      "metadata": {
        "id": "aaMYtg-3CHB6",
        "outputId": "a2df472a-1c0a-401e-9677-b97aa14c7ddd",
        "colab": {
          "base_uri": "https://localhost:8080/"
        }
      },
      "execution_count": 42,
      "outputs": [
        {
          "output_type": "stream",
          "name": "stdout",
          "text": [
            "[2 4 6 8]\n",
            "[[2 4]\n",
            " [6 8]]\n"
          ]
        }
      ]
    },
    {
      "cell_type": "code",
      "source": [
        "import array as arr\n",
        "a = arr.array('i', [1, 2, 3])\n",
        "\n",
        "print(a[0])\n",
        "\n",
        "a.append(5)\n",
        "print(a)"
      ],
      "metadata": {
        "id": "aBK1TPpeCjig",
        "outputId": "8be98a5f-c978-4e7d-a4c7-164157d76c3f",
        "colab": {
          "base_uri": "https://localhost:8080/"
        }
      },
      "execution_count": 43,
      "outputs": [
        {
          "output_type": "stream",
          "name": "stdout",
          "text": [
            "1\n",
            "array('i', [1, 2, 3, 5])\n"
          ]
        }
      ]
    },
    {
      "cell_type": "code",
      "source": [
        "import array as arr\n",
        "a = arr.array('i', [1, 2, 3])\n",
        "print(*a)\n",
        "\n",
        "a.insert(1, 4)\n",
        "print(*a)"
      ],
      "metadata": {
        "id": "JmECjjVoCw1X",
        "outputId": "e7473f2e-311a-43bc-8699-10917f76f1eb",
        "colab": {
          "base_uri": "https://localhost:8080/"
        }
      },
      "execution_count": 44,
      "outputs": [
        {
          "output_type": "stream",
          "name": "stdout",
          "text": [
            "1 2 3\n",
            "1 4 2 3\n"
          ]
        }
      ]
    },
    {
      "cell_type": "code",
      "source": [
        "import array as arr\n",
        "a = arr.array('i', [1, 2, 3, 4, 5, 6])\n",
        "\n",
        "print(a[0])\n",
        "print(a[3])\n",
        "\n",
        "b = arr.array('d', [2.5, 3.2, 3.3])\n",
        "print(b[1])\n",
        "print(b[2])"
      ],
      "metadata": {
        "id": "lWXK13lBC52d",
        "outputId": "deeedbb1-defd-41a7-dd19-42a5fe3c9303",
        "colab": {
          "base_uri": "https://localhost:8080/"
        }
      },
      "execution_count": 45,
      "outputs": [
        {
          "output_type": "stream",
          "name": "stdout",
          "text": [
            "1\n",
            "4\n",
            "3.2\n",
            "3.3\n"
          ]
        }
      ]
    },
    {
      "cell_type": "code",
      "source": [
        "import array\n",
        "a = array.array('i', [1, 2, 3, 1, 5])\n",
        "\n",
        "a.remove(1)\n",
        "print(a)\n",
        "\n",
        "a.pop(2)\n",
        "print(a)"
      ],
      "metadata": {
        "id": "EqbMp-q7DKgt",
        "outputId": "b534392d-3367-4692-a01a-cb46dce68b15",
        "colab": {
          "base_uri": "https://localhost:8080/"
        }
      },
      "execution_count": 46,
      "outputs": [
        {
          "output_type": "stream",
          "name": "stdout",
          "text": [
            "array('i', [2, 3, 1, 5])\n",
            "array('i', [2, 3, 5])\n"
          ]
        }
      ]
    },
    {
      "cell_type": "code",
      "source": [
        "import array as arr\n",
        "a = [1, 2, 3, 4, 5, 6, 7, 8, 9, 10]\n",
        "b = arr.array('i', a)\n",
        "\n",
        "res = a[3:8]\n",
        "print(res)\n",
        "\n",
        "res = a[5:]\n",
        "print(res)\n",
        "\n",
        "res = a[:]\n",
        "print(res)"
      ],
      "metadata": {
        "id": "Zifd9TvcDW49",
        "outputId": "3f751ba7-5898-4cb0-afc8-660f23c86ba0",
        "colab": {
          "base_uri": "https://localhost:8080/"
        }
      },
      "execution_count": 47,
      "outputs": [
        {
          "output_type": "stream",
          "name": "stdout",
          "text": [
            "[4, 5, 6, 7, 8]\n",
            "[6, 7, 8, 9, 10]\n",
            "[1, 2, 3, 4, 5, 6, 7, 8, 9, 10]\n"
          ]
        }
      ]
    },
    {
      "cell_type": "code",
      "source": [
        "import array\n",
        "a = array.array('i', [1, 2, 3, 4, 2, 5, 2])\n",
        "\n",
        "count = a.count(2)\n",
        "print(count)"
      ],
      "metadata": {
        "id": "Z5MyHLGLDWBg",
        "outputId": "329838d4-38fb-4b49-c4cf-02ea7c2a5021",
        "colab": {
          "base_uri": "https://localhost:8080/"
        }
      },
      "execution_count": 48,
      "outputs": [
        {
          "output_type": "stream",
          "name": "stdout",
          "text": [
            "3\n"
          ]
        }
      ]
    },
    {
      "cell_type": "code",
      "source": [
        "import array\n",
        "a = array.array('i', [1, 2, 3, 4, 5])\n",
        "\n",
        "a.reverse()\n",
        "print(*a)"
      ],
      "metadata": {
        "id": "6juIMrO6E5ds",
        "outputId": "c3436b57-fabf-4ab6-fb1f-1071ab9d677c",
        "colab": {
          "base_uri": "https://localhost:8080/"
        }
      },
      "execution_count": 51,
      "outputs": [
        {
          "output_type": "stream",
          "name": "stdout",
          "text": [
            "5 4 3 2 1\n"
          ]
        }
      ]
    },
    {
      "cell_type": "code",
      "source": [
        "import array as arr\n",
        "a = arr.array('i', [1, 2, 3,4,5])\n",
        "\n",
        "a.extend([6,7,8,9,10])\n",
        "print(a)"
      ],
      "metadata": {
        "id": "sx3K-9drFFgv",
        "outputId": "7c3ac700-7e53-4930-8883-f6762948e957",
        "colab": {
          "base_uri": "https://localhost:8080/"
        }
      },
      "execution_count": 52,
      "outputs": [
        {
          "output_type": "stream",
          "name": "stdout",
          "text": [
            "array('i', [1, 2, 3, 4, 5, 6, 7, 8, 9, 10])\n"
          ]
        }
      ]
    },
    {
      "cell_type": "code",
      "source": [
        "a = [2,3,4,5]\n",
        "res = [val ** 2 for val in a]\n",
        "print(res)"
      ],
      "metadata": {
        "id": "sI8vN0C_FUD4",
        "outputId": "f0e364e9-2954-4224-b512-246824f9ca82",
        "colab": {
          "base_uri": "https://localhost:8080/"
        }
      },
      "execution_count": 53,
      "outputs": [
        {
          "output_type": "stream",
          "name": "stdout",
          "text": [
            "[4, 9, 16, 25]\n"
          ]
        }
      ]
    },
    {
      "cell_type": "code",
      "source": [
        "a = [1, 2, 3, 4, 5]\n",
        "res = [val * 2 for val in a]\n",
        "print(res)"
      ],
      "metadata": {
        "id": "C8BD0OJzF1Ml",
        "outputId": "b77b1153-1726-45e1-f317-7efe764a894c",
        "colab": {
          "base_uri": "https://localhost:8080/"
        }
      },
      "execution_count": 54,
      "outputs": [
        {
          "output_type": "stream",
          "name": "stdout",
          "text": [
            "[2, 4, 6, 8, 10]\n"
          ]
        }
      ]
    },
    {
      "cell_type": "code",
      "source": [
        "a = [1, 2, 3, 4, 5]\n",
        "res = [val for val in a if val % 2 == 0]\n",
        "print(res)"
      ],
      "metadata": {
        "id": "FPLCqE1TF50H",
        "outputId": "c1a4ebf8-35d6-4c5c-a3d5-cefce644605d",
        "colab": {
          "base_uri": "https://localhost:8080/"
        }
      },
      "execution_count": 55,
      "outputs": [
        {
          "output_type": "stream",
          "name": "stdout",
          "text": [
            "[2, 4]\n"
          ]
        }
      ]
    },
    {
      "cell_type": "code",
      "source": [
        "a = [i for i in range(10)]\n",
        "print(a)"
      ],
      "metadata": {
        "id": "LZwE9625GBqJ",
        "outputId": "3486d875-fc40-4211-bce8-333b91c28264",
        "colab": {
          "base_uri": "https://localhost:8080/"
        }
      },
      "execution_count": 56,
      "outputs": [
        {
          "output_type": "stream",
          "name": "stdout",
          "text": [
            "[0, 1, 2, 3, 4, 5, 6, 7, 8, 9]\n"
          ]
        }
      ]
    },
    {
      "cell_type": "code",
      "source": [
        "a = [i for i in range(10)]\n",
        "print(a)"
      ],
      "metadata": {
        "id": "xaQy3_h3GVh0",
        "outputId": "7d3b1808-8894-450d-9990-b6e81b1ff7db",
        "colab": {
          "base_uri": "https://localhost:8080/"
        }
      },
      "execution_count": 57,
      "outputs": [
        {
          "output_type": "stream",
          "name": "stdout",
          "text": [
            "[0, 1, 2, 3, 4, 5, 6, 7, 8, 9]\n"
          ]
        }
      ]
    },
    {
      "cell_type": "code",
      "source": [
        "from collections import Counter\n",
        "\n",
        "num = [1, 2, 2, 3, 3, 3, 4, 4, 4, 4]\n",
        "cnt = Counter(num)\n",
        "print(cnt)"
      ],
      "metadata": {
        "id": "qV80Zju2Giqj",
        "outputId": "944583ec-3a0b-40c8-a34a-8cc7275400f8",
        "colab": {
          "base_uri": "https://localhost:8080/"
        }
      },
      "execution_count": 58,
      "outputs": [
        {
          "output_type": "stream",
          "name": "stdout",
          "text": [
            "Counter({4: 4, 3: 3, 2: 2, 1: 1})\n"
          ]
        }
      ]
    },
    {
      "cell_type": "code",
      "source": [
        "from collections import Counter\n",
        "ctr1 = Counter([1, 2, 2, 3, 3, 3])\n",
        "ctr2 = Counter({1: 2, 2: 3, 3: 1})\n",
        "ctr3 = Counter('hello')\n",
        "\n",
        "print(ctr1)\n",
        "print(ctr2)\n",
        "print(ctr3)"
      ],
      "metadata": {
        "id": "Kj0QuGfbGvpr",
        "outputId": "78c641fe-66b3-4973-9201-f0dfa209c924",
        "colab": {
          "base_uri": "https://localhost:8080/"
        }
      },
      "execution_count": 59,
      "outputs": [
        {
          "output_type": "stream",
          "name": "stdout",
          "text": [
            "Counter({3: 3, 2: 2, 1: 1})\n",
            "Counter({2: 3, 1: 2, 3: 1})\n",
            "Counter({'l': 2, 'h': 1, 'e': 1, 'o': 1})\n"
          ]
        }
      ]
    },
    {
      "cell_type": "code",
      "source": [
        "from collections import Counter\n",
        "ctr = Counter([1, 2, 2, 3, 3, 3])\n",
        "\n",
        "\n",
        "print(ctr[1])\n",
        "print(ctr[2])\n",
        "print(ctr[3])\n",
        "print(ctr[4])"
      ],
      "metadata": {
        "id": "vgMNRG0cHDW9",
        "outputId": "103a43c3-deae-4913-9fe2-ec55a5ece834",
        "colab": {
          "base_uri": "https://localhost:8080/"
        }
      },
      "execution_count": 60,
      "outputs": [
        {
          "output_type": "stream",
          "name": "stdout",
          "text": [
            "1\n",
            "2\n",
            "3\n",
            "0\n"
          ]
        }
      ]
    },
    {
      "cell_type": "code",
      "source": [
        "from collections import Counter\n",
        "ctr = Counter([1, 2, 2])\n",
        "\n",
        "ctr.update([2, 3, 3, 3])\n",
        "print(ctr)"
      ],
      "metadata": {
        "id": "wlbEy5jSHOL6",
        "outputId": "6e7c2f17-7ffc-4efd-f377-e4529b7a95c7",
        "colab": {
          "base_uri": "https://localhost:8080/"
        }
      },
      "execution_count": 61,
      "outputs": [
        {
          "output_type": "stream",
          "name": "stdout",
          "text": [
            "Counter({2: 3, 3: 3, 1: 1})\n"
          ]
        }
      ]
    },
    {
      "cell_type": "code",
      "source": [
        "from collections import Counter\n",
        "ctr = Counter([1, 2, 2, 3, 3, 3])\n",
        "items = list(ctr.elements())\n",
        "print(items)"
      ],
      "metadata": {
        "id": "6WmYzTHkHUek",
        "outputId": "3a3ee4ed-e4db-44bc-971a-d5f0dd66c021",
        "colab": {
          "base_uri": "https://localhost:8080/"
        }
      },
      "execution_count": 62,
      "outputs": [
        {
          "output_type": "stream",
          "name": "stdout",
          "text": [
            "[1, 2, 2, 3, 3, 3]\n"
          ]
        }
      ]
    },
    {
      "cell_type": "code",
      "source": [
        "from collections import Counter\n",
        "ctr = Counter([1, 2, 2, 3, 3, 3])\n",
        "common = ctr.most_common(2)\n",
        "print(common)"
      ],
      "metadata": {
        "id": "jlpJVbVVHarZ",
        "outputId": "3183a4a3-3392-4648-de91-78e5b449c40b",
        "colab": {
          "base_uri": "https://localhost:8080/"
        }
      },
      "execution_count": 63,
      "outputs": [
        {
          "output_type": "stream",
          "name": "stdout",
          "text": [
            "[(3, 3), (2, 2)]\n"
          ]
        }
      ]
    },
    {
      "cell_type": "code",
      "source": [
        "from collections import Counter\n",
        "ctr1 = Counter([1, 2, 2, 3])\n",
        "ctr2 = Counter([2, 3, 3, 4])\n",
        "\n",
        "print(ctr1 + ctr2)\n",
        "print(ctr1 - ctr2)\n",
        "print(ctr1 & ctr2)\n",
        "print(ctr1 | ctr2)"
      ],
      "metadata": {
        "id": "WCN822fFHkO-",
        "outputId": "d74eb26d-d6e5-45fc-dac4-c2610963534c",
        "colab": {
          "base_uri": "https://localhost:8080/"
        }
      },
      "execution_count": 64,
      "outputs": [
        {
          "output_type": "stream",
          "name": "stdout",
          "text": [
            "Counter({2: 3, 3: 3, 1: 1, 4: 1})\n",
            "Counter({1: 1, 2: 1})\n",
            "Counter({2: 1, 3: 1})\n",
            "Counter({2: 2, 3: 2, 1: 1, 4: 1})\n"
          ]
        }
      ]
    },
    {
      "cell_type": "code",
      "source": [
        "import heapq\n",
        "li = [25, 20, 15, 30, 40]\n",
        "heapq.heapify(li)\n",
        "print(\"Heap queue:\", li)"
      ],
      "metadata": {
        "id": "0GGU6O3rH35K",
        "outputId": "e7206b51-12b6-45a0-b0cf-b066ac62df04",
        "colab": {
          "base_uri": "https://localhost:8080/"
        }
      },
      "execution_count": 65,
      "outputs": [
        {
          "output_type": "stream",
          "name": "stdout",
          "text": [
            "Heap queue: [15, 20, 25, 30, 40]\n"
          ]
        }
      ]
    },
    {
      "cell_type": "code",
      "source": [
        "import heapq\n",
        "\n",
        "h = [10, 20, 15, 30, 40]\n",
        "heapq.heapify(h)\n",
        "heapq.heappush(h, 5)\n",
        "\n",
        "print(h)\n",
        "\n",
        "min = heapq.heappop(h)\n",
        "print(\"Smallest:\", min)\n",
        "print(h)"
      ],
      "metadata": {
        "id": "XV-dhqCBIGD1",
        "outputId": "a837eb66-cf97-46c7-8a50-b04052d19302",
        "colab": {
          "base_uri": "https://localhost:8080/"
        }
      },
      "execution_count": 66,
      "outputs": [
        {
          "output_type": "stream",
          "name": "stdout",
          "text": [
            "[5, 20, 10, 30, 40, 15]\n",
            "Smallest: 5\n",
            "[10, 20, 15, 30, 40]\n"
          ]
        }
      ]
    },
    {
      "cell_type": "code",
      "source": [
        "import heapq\n",
        "\n",
        "\n",
        "h = [10, 20, 15, 30, 40]\n",
        "heapq.heapify(h)\n",
        "\n",
        "min = heapq.heappushpop(h, 5)\n",
        "print(min)\n",
        "print(h)"
      ],
      "metadata": {
        "id": "OkiIYozSIaDx",
        "outputId": "638fc499-02d9-416d-bccf-8d0255431e91",
        "colab": {
          "base_uri": "https://localhost:8080/"
        }
      },
      "execution_count": 68,
      "outputs": [
        {
          "output_type": "stream",
          "name": "stdout",
          "text": [
            "5\n",
            "[10, 20, 15, 30, 40]\n"
          ]
        }
      ]
    }
  ]
}