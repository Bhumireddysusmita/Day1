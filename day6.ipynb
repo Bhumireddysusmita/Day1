{
  "nbformat": 4,
  "nbformat_minor": 0,
  "metadata": {
    "colab": {
      "provenance": [],
      "authorship_tag": "ABX9TyO01eZ6mFoDakfqi+Uebtvq",
      "include_colab_link": true
    },
    "kernelspec": {
      "name": "python3",
      "display_name": "Python 3"
    },
    "language_info": {
      "name": "python"
    }
  },
  "cells": [
    {
      "cell_type": "markdown",
      "metadata": {
        "id": "view-in-github",
        "colab_type": "text"
      },
      "source": [
        "<a href=\"https://colab.research.google.com/github/Bhumireddysusmita/Day1/blob/main/day6.ipynb\" target=\"_parent\"><img src=\"https://colab.research.google.com/assets/colab-badge.svg\" alt=\"Open In Colab\"/></a>"
      ]
    },
    {
      "cell_type": "code",
      "execution_count": 1,
      "metadata": {
        "id": "Y2_pKPH_EfJS",
        "colab": {
          "base_uri": "https://localhost:8080/"
        },
        "outputId": "21c7ed8c-68eb-4863-e94e-10c438423d0c"
      },
      "outputs": [
        {
          "output_type": "stream",
          "name": "stdout",
          "text": [
            "deque(['name', 'age', 'DOB'])\n"
          ]
        }
      ],
      "source": [
        "from collections import deque\n",
        "\n",
        "de = deque(['name','age','DOB'])\n",
        "\n",
        "print(de)"
      ]
    },
    {
      "cell_type": "code",
      "source": [
        "from collections import deque\n",
        "\n",
        "dq = deque([10, 20, 30])\n",
        "dq.append(40)\n",
        "\n",
        "dq.appendleft(5)\n",
        "\n",
        "dq.extend([50, 60, 70])\n",
        "print(\"After extend([50, 60, 70]):\", dq)\n",
        "\n",
        "dq.extendleft([0, 5])\n",
        "print(\"After extendleft([0, 5]):\", dq)\n",
        "\n",
        "dq.remove(20)\n",
        "print(\"After remove(20):\", dq)\n",
        "\n",
        "dq.pop()\n",
        "\n",
        "dq.popleft()\n",
        "\n",
        "print(\"After pop and popleft:\", dq)\n",
        "\n",
        "dq.clear()\n",
        "print(\"After clear():\", dq)"
      ],
      "metadata": {
        "colab": {
          "base_uri": "https://localhost:8080/"
        },
        "id": "O-oAiYUhLO9a",
        "outputId": "563cff6d-504c-45a0-a3d5-e4fef941368b"
      },
      "execution_count": 2,
      "outputs": [
        {
          "output_type": "stream",
          "name": "stdout",
          "text": [
            "After extend([50, 60, 70]): deque([5, 10, 20, 30, 40, 50, 60, 70])\n",
            "After extendleft([0, 5]): deque([5, 0, 5, 10, 20, 30, 40, 50, 60, 70])\n",
            "After remove(20): deque([5, 0, 5, 10, 30, 40, 50, 60, 70])\n",
            "After pop and popleft: deque([0, 5, 10, 30, 40, 50, 60])\n",
            "After clear(): deque([])\n"
          ]
        }
      ]
    },
    {
      "cell_type": "code",
      "source": [
        "import collections\n",
        "\n",
        "dq = collections.deque([1, 2, 3, 3, 4, 2, 4])\n",
        "\n",
        "print(dq[0])\n",
        "print(dq[-1])\n",
        "\n",
        "print(len(dq))"
      ],
      "metadata": {
        "colab": {
          "base_uri": "https://localhost:8080/"
        },
        "id": "LikBGX5YLsx1",
        "outputId": "24400c93-c87c-413d-cdd5-64dc00900642"
      },
      "execution_count": 3,
      "outputs": [
        {
          "output_type": "stream",
          "name": "stdout",
          "text": [
            "1\n",
            "4\n",
            "7\n"
          ]
        }
      ]
    },
    {
      "cell_type": "code",
      "source": [
        "from collections import OrderedDict\n",
        "\n",
        "od = OrderedDict()\n",
        "od['apple'] = 1\n",
        "od['banana'] = 2\n",
        "od['cherry'] = 3\n",
        "\n",
        "print(list(od.items()))"
      ],
      "metadata": {
        "colab": {
          "base_uri": "https://localhost:8080/"
        },
        "id": "x4iTpgw_L07N",
        "outputId": "92492d56-570d-46fa-edfb-dc3762fd211f"
      },
      "execution_count": 4,
      "outputs": [
        {
          "output_type": "stream",
          "name": "stdout",
          "text": [
            "[('apple', 1), ('banana', 2), ('cherry', 3)]\n"
          ]
        }
      ]
    },
    {
      "cell_type": "code",
      "source": [
        "from collections import OrderedDict\n",
        "\n",
        "d = {'a': 1, 'b': 2, 'c': 3}\n",
        "for k, v in d.items():\n",
        "    print(k, v)\n",
        "\n",
        "print(\"OrderedDict:\")\n",
        "od = OrderedDict([('d', 4), ('b', 2), ('a', 1), ('c', 3)])\n",
        "for k, v in od.items():\n",
        "    print(k, v)"
      ],
      "metadata": {
        "colab": {
          "base_uri": "https://localhost:8080/"
        },
        "id": "6jAOtFNZMSN0",
        "outputId": "037b1f9e-1c82-4308-f4f6-4450360a74cf"
      },
      "execution_count": 5,
      "outputs": [
        {
          "output_type": "stream",
          "name": "stdout",
          "text": [
            "a 1\n",
            "b 2\n",
            "c 3\n",
            "OrderedDict:\n",
            "d 4\n",
            "b 2\n",
            "a 1\n",
            "c 3\n"
          ]
        }
      ]
    },
    {
      "cell_type": "code",
      "source": [
        "from collections import OrderedDict\n",
        "\n",
        "od = OrderedDict([('a', 1), ('b', 2), ('c', 3), ('d', 4)])\n",
        "od['c'] = 5\n",
        "\n",
        "for k, v in od.items():\n",
        "    print(k, v)"
      ],
      "metadata": {
        "colab": {
          "base_uri": "https://localhost:8080/"
        },
        "id": "kh_OJY89MZQo",
        "outputId": "9de7a2e1-5215-49ca-a8ed-fa2061f00191"
      },
      "execution_count": 6,
      "outputs": [
        {
          "output_type": "stream",
          "name": "stdout",
          "text": [
            "a 1\n",
            "b 2\n",
            "c 5\n",
            "d 4\n"
          ]
        }
      ]
    },
    {
      "cell_type": "code",
      "source": [
        "from collections import OrderedDict\n",
        "\n",
        "od1 = OrderedDict([('a', 1), ('b', 2), ('c', 3)])\n",
        "od2 = OrderedDict([('c', 3), ('b', 2), ('a', 1)])\n",
        "print(od1 == od2)"
      ],
      "metadata": {
        "colab": {
          "base_uri": "https://localhost:8080/"
        },
        "id": "n3po0VFoMfTx",
        "outputId": "428fe95d-b469-4845-da31-9a41b8e0d934"
      },
      "execution_count": 7,
      "outputs": [
        {
          "output_type": "stream",
          "name": "stdout",
          "text": [
            "False\n"
          ]
        }
      ]
    },
    {
      "cell_type": "code",
      "source": [
        "from collections import defaultdict\n",
        "d = defaultdict(list)\n",
        "\n",
        "d['fruits'].append('apple')\n",
        "d['vegetables'].append('carrot')\n",
        "print(d)\n",
        "print(d['juices'])"
      ],
      "metadata": {
        "colab": {
          "base_uri": "https://localhost:8080/"
        },
        "id": "ZI2DJ2X1My0v",
        "outputId": "2a300361-6441-4448-b790-dc75233a4e6a"
      },
      "execution_count": 8,
      "outputs": [
        {
          "output_type": "stream",
          "name": "stdout",
          "text": [
            "defaultdict(<class 'list'>, {'fruits': ['apple'], 'vegetables': ['carrot']})\n",
            "[]\n"
          ]
        }
      ]
    },
    {
      "cell_type": "code",
      "source": [
        "from collections import defaultdict\n",
        "d = defaultdict(list)\n",
        "for i in range(5):\n",
        "    d[i].append(i)\n",
        "\n",
        "print(\"Dictionary with values as list:\")\n",
        "print(d)"
      ],
      "metadata": {
        "colab": {
          "base_uri": "https://localhost:8080/"
        },
        "id": "rgaMiHitNG7V",
        "outputId": "57e35a8a-3b63-45b9-8c55-a553fe39a3e1"
      },
      "execution_count": 9,
      "outputs": [
        {
          "output_type": "stream",
          "name": "stdout",
          "text": [
            "Dictionary with values as list:\n",
            "defaultdict(<class 'list'>, {0: [0], 1: [1], 2: [2], 3: [3], 4: [4]})\n"
          ]
        }
      ]
    },
    {
      "cell_type": "code",
      "source": [
        "from collections import defaultdict\n",
        "\n",
        "sd = defaultdict(str)\n",
        "sd['greeting'] = 'Hello'\n",
        "print(sd)"
      ],
      "metadata": {
        "colab": {
          "base_uri": "https://localhost:8080/"
        },
        "id": "gDo5aQXrNLRP",
        "outputId": "5b57fded-e368-4dc6-b537-73509a1a0f35"
      },
      "execution_count": 10,
      "outputs": [
        {
          "output_type": "stream",
          "name": "stdout",
          "text": [
            "defaultdict(<class 'str'>, {'greeting': 'Hello'})\n"
          ]
        }
      ]
    }
  ]
}