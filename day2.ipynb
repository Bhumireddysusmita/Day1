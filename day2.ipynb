{
  "nbformat": 4,
  "nbformat_minor": 0,
  "metadata": {
    "colab": {
      "provenance": [],
      "authorship_tag": "ABX9TyOdY/8WSB7sf1QB1stM1Yyl",
      "include_colab_link": true
    },
    "kernelspec": {
      "name": "python3",
      "display_name": "Python 3"
    },
    "language_info": {
      "name": "python"
    }
  },
  "cells": [
    {
      "cell_type": "markdown",
      "metadata": {
        "id": "view-in-github",
        "colab_type": "text"
      },
      "source": [
        "<a href=\"https://colab.research.google.com/github/Bhumireddysusmita/Day1/blob/main/day2.ipynb\" target=\"_parent\"><img src=\"https://colab.research.google.com/assets/colab-badge.svg\" alt=\"Open In Colab\"/></a>"
      ]
    },
    {
      "cell_type": "code",
      "execution_count": 1,
      "metadata": {
        "colab": {
          "base_uri": "https://localhost:8080/"
        },
        "id": "pD9nQhR_NYXR",
        "outputId": "384ac548-d265-4954-cf86-919f108518f6"
      },
      "outputs": [
        {
          "output_type": "stream",
          "name": "stdout",
          "text": [
            "<class 'int'>\n",
            "<class 'float'>\n",
            "<class 'complex'>\n"
          ]
        }
      ],
      "source": [
        "a = 5\n",
        "print(type(a))\n",
        "\n",
        "b = 5.0\n",
        "print(type(b))\n",
        "\n",
        "c = 2 + 4j\n",
        "print(type(c))\n"
      ]
    },
    {
      "cell_type": "code",
      "source": [
        "s = 'Welcome to the Geeks World'\n",
        "print(s)\n",
        "print(type(s))\n",
        "print(s[1])\n",
        "print(s[2])\n",
        "print(s[-1])"
      ],
      "metadata": {
        "colab": {
          "base_uri": "https://localhost:8080/"
        },
        "id": "MoWT7F71QvRU",
        "outputId": "c10e49e8-7c12-4390-f305-1ee87dafb7be"
      },
      "execution_count": 2,
      "outputs": [
        {
          "output_type": "stream",
          "name": "stdout",
          "text": [
            "Welcome to the Geeks World\n",
            "<class 'str'>\n",
            "e\n",
            "l\n",
            "d\n"
          ]
        }
      ]
    },
    {
      "cell_type": "code",
      "source": [
        "\n",
        "a = []\n",
        "a = [1, 2, 3]\n",
        "print(a)\n",
        "b = [\"susmita\", \"Bhumireddy\", 4, 5]\n",
        "print(b)"
      ],
      "metadata": {
        "colab": {
          "base_uri": "https://localhost:8080/"
        },
        "id": "liKUy4P_Q5ie",
        "outputId": "b92d31f8-c8f7-480b-e019-58461289d218"
      },
      "execution_count": 4,
      "outputs": [
        {
          "output_type": "stream",
          "name": "stdout",
          "text": [
            "[1, 2, 3]\n",
            "['susmita', 'Bhumireddy', 4, 5]\n"
          ]
        }
      ]
    },
    {
      "cell_type": "code",
      "source": [
        "tup1 = (1, 2, 3, 4, 5)\n",
        "print(tup1[0])\n",
        "print(tup1[-1])\n",
        "print(tup1[-3])"
      ],
      "metadata": {
        "colab": {
          "base_uri": "https://localhost:8080/"
        },
        "id": "ZfdF8iz8RwjI",
        "outputId": "d32e64a3-4ede-4b63-a6a3-ed614d46f58c"
      },
      "execution_count": 5,
      "outputs": [
        {
          "output_type": "stream",
          "name": "stdout",
          "text": [
            "1\n",
            "5\n",
            "3\n"
          ]
        }
      ]
    },
    {
      "cell_type": "code",
      "source": [
        "if 1:\n",
        "    print(\"1 is truthy\")\n",
        "\n",
        "if not 0:\n",
        "    print(\"0 is falsy\")"
      ],
      "metadata": {
        "colab": {
          "base_uri": "https://localhost:8080/"
        },
        "id": "EfNvUrmJR53s",
        "outputId": "321d7d4e-e773-4abc-efae-81c3bdd165b8"
      },
      "execution_count": 6,
      "outputs": [
        {
          "output_type": "stream",
          "name": "stdout",
          "text": [
            "1 is truthy\n",
            "0 is falsy\n"
          ]
        }
      ]
    },
    {
      "cell_type": "code",
      "source": [
        "set1 = set([\"Geeks\", \"For\", \"Geeks\"])\n",
        "print(set1)\n",
        "for i in set1:\n",
        "   print(i, end=\" \")\n",
        "print(\"Geeks\" in set1)"
      ],
      "metadata": {
        "colab": {
          "base_uri": "https://localhost:8080/"
        },
        "id": "aukWSl6LR8jS",
        "outputId": "aa1d1111-05d4-4e25-81e4-6c43c0a1d6bc"
      },
      "execution_count": 7,
      "outputs": [
        {
          "output_type": "stream",
          "name": "stdout",
          "text": [
            "{'For', 'Geeks'}\n",
            "For Geeks True\n"
          ]
        }
      ]
    },
    {
      "cell_type": "code",
      "source": [
        "\n",
        "d = {}\n",
        "d = {1: 'Geeks', 2: 'For', 3: 'Geeks'}\n",
        "print(d)\n",
        "d1 = dict({1: 'Geeks', 2: 'For', 3: 'Geeks'})\n",
        "print(d1)"
      ],
      "metadata": {
        "colab": {
          "base_uri": "https://localhost:8080/"
        },
        "id": "yOY4PTtER9Ge",
        "outputId": "94c2c77e-9de2-4091-e3b6-ba4a383766a8"
      },
      "execution_count": 8,
      "outputs": [
        {
          "output_type": "stream",
          "name": "stdout",
          "text": [
            "{1: 'Geeks', 2: 'For', 3: 'Geeks'}\n",
            "{1: 'Geeks', 2: 'For', 3: 'Geeks'}\n"
          ]
        }
      ]
    },
    {
      "cell_type": "code",
      "source": [
        "age = 20\n",
        "if age >= 18:\n",
        "    print(\"Eligible to vote.\")"
      ],
      "metadata": {
        "colab": {
          "base_uri": "https://localhost:8080/"
        },
        "id": "KEqywE5DR9ok",
        "outputId": "7b7aa12d-545e-48a7-a37f-afcd99f74ddc"
      },
      "execution_count": 9,
      "outputs": [
        {
          "output_type": "stream",
          "name": "stdout",
          "text": [
            "Eligible to vote.\n"
          ]
        }
      ]
    },
    {
      "cell_type": "code",
      "source": [
        "age = 10\n",
        "if age <= 12:\n",
        "    print(\"Travel for free.\")\n",
        "else:\n",
        "    print(\"Pay for ticket.\")"
      ],
      "metadata": {
        "colab": {
          "base_uri": "https://localhost:8080/"
        },
        "id": "eLQoww1sSp1E",
        "outputId": "3c36015b-4b05-4ccf-b7d3-e5c8f72a3595"
      },
      "execution_count": 10,
      "outputs": [
        {
          "output_type": "stream",
          "name": "stdout",
          "text": [
            "Travel for free.\n"
          ]
        }
      ]
    },
    {
      "cell_type": "code",
      "source": [
        "n = 4\n",
        "for i in range(0, n):\n",
        "    print(i)"
      ],
      "metadata": {
        "colab": {
          "base_uri": "https://localhost:8080/"
        },
        "id": "8t7O5VTtSw1d",
        "outputId": "daa15007-8fa2-4a28-f567-3238c15d42b3"
      },
      "execution_count": 12,
      "outputs": [
        {
          "output_type": "stream",
          "name": "stdout",
          "text": [
            "0\n",
            "1\n",
            "2\n",
            "3\n"
          ]
        }
      ]
    },
    {
      "cell_type": "code",
      "source": [
        "cnt = 0\n",
        "while (cnt < 3):\n",
        "    cnt = cnt + 1\n",
        "    print(\"Hello world\")"
      ],
      "metadata": {
        "colab": {
          "base_uri": "https://localhost:8080/"
        },
        "id": "ilu107u1S7bR",
        "outputId": "696c3e9f-1207-4bf0-c2f0-fa66467c9f09"
      },
      "execution_count": 13,
      "outputs": [
        {
          "output_type": "stream",
          "name": "stdout",
          "text": [
            "Hello world\n",
            "Hello world\n",
            "Hello world\n"
          ]
        }
      ]
    },
    {
      "cell_type": "code",
      "source": [
        "for letter in 'susmita':\n",
        "    if letter == 's' or letter == 'm':\n",
        "        continue\n",
        "    print('Current Letter :', letter)"
      ],
      "metadata": {
        "colab": {
          "base_uri": "https://localhost:8080/"
        },
        "id": "MJ9XrDJrTpSQ",
        "outputId": "9ce18cf5-4cfc-446d-9030-68bf6a2a423a"
      },
      "execution_count": 14,
      "outputs": [
        {
          "output_type": "stream",
          "name": "stdout",
          "text": [
            "Current Letter : u\n",
            "Current Letter : i\n",
            "Current Letter : t\n",
            "Current Letter : a\n"
          ]
        }
      ]
    },
    {
      "cell_type": "code",
      "source": [
        "for letter in 'susmita':\n",
        "    if letter == 's' or letter == 'm':\n",
        "        break\n",
        "\n",
        "print('Current Letter :', letter)"
      ],
      "metadata": {
        "colab": {
          "base_uri": "https://localhost:8080/"
        },
        "id": "xshImFTMTzpP",
        "outputId": "453f0102-ef4a-4dd6-8ac5-ff4ef6433c47"
      },
      "execution_count": 15,
      "outputs": [
        {
          "output_type": "stream",
          "name": "stdout",
          "text": [
            "Current Letter : s\n"
          ]
        }
      ]
    },
    {
      "cell_type": "code",
      "source": [
        "for letter in 'susmita':\n",
        "    pass\n",
        "print('Last Letter :', letter)"
      ],
      "metadata": {
        "colab": {
          "base_uri": "https://localhost:8080/"
        },
        "id": "YoYy9NwVT9eY",
        "outputId": "909f048f-420c-4e4e-9c64-ba6a8a1cd9c2"
      },
      "execution_count": 16,
      "outputs": [
        {
          "output_type": "stream",
          "name": "stdout",
          "text": [
            "Last Letter : a\n"
          ]
        }
      ]
    },
    {
      "cell_type": "code",
      "source": [
        "def evenOdd(x):\n",
        "    if (x % 2 == 0):\n",
        "        return \"Even\"\n",
        "    else:\n",
        "        return \"Odd\"\n",
        "\n",
        "print(evenOdd(16))\n",
        "print(evenOdd(7))"
      ],
      "metadata": {
        "colab": {
          "base_uri": "https://localhost:8080/"
        },
        "id": "jC-kKKckUIjd",
        "outputId": "7fab0250-67d4-43db-e6f2-19f90b5aa971"
      },
      "execution_count": 17,
      "outputs": [
        {
          "output_type": "stream",
          "name": "stdout",
          "text": [
            "Even\n",
            "Odd\n"
          ]
        }
      ]
    },
    {
      "cell_type": "code",
      "source": [
        "def myFun(x, y=50):\n",
        "    print(\"x: \", x)\n",
        "    print(\"y: \", y)\n",
        "\n",
        "myFun(10)"
      ],
      "metadata": {
        "colab": {
          "base_uri": "https://localhost:8080/"
        },
        "id": "cqb3SiSIUXkn",
        "outputId": "2f75553e-5065-4277-8cf2-5d06e476077b"
      },
      "execution_count": 18,
      "outputs": [
        {
          "output_type": "stream",
          "name": "stdout",
          "text": [
            "x:  10\n",
            "y:  50\n"
          ]
        }
      ]
    },
    {
      "cell_type": "code",
      "source": [
        "def student(fname, lname):\n",
        "    print(fname, lname)\n",
        "\n",
        "student(fname='Geeks', lname='Practice')\n",
        "student(lname='Practice', fname='Geeks')"
      ],
      "metadata": {
        "colab": {
          "base_uri": "https://localhost:8080/"
        },
        "id": "nb6KV7MsUb4n",
        "outputId": "cf44e6f9-e175-4f2f-e0af-93f6b52a4d08"
      },
      "execution_count": 19,
      "outputs": [
        {
          "output_type": "stream",
          "name": "stdout",
          "text": [
            "Geeks Practice\n",
            "Geeks Practice\n"
          ]
        }
      ]
    },
    {
      "cell_type": "code",
      "source": [
        "def square_value(num):\n",
        "    return num**2\n",
        "print(square_value(2))\n",
        "print(square_value(-4))"
      ],
      "metadata": {
        "colab": {
          "base_uri": "https://localhost:8080/"
        },
        "id": "8J0ZUm4qUufs",
        "outputId": "10da65d3-c94a-4873-f705-7dbdeedb10e3"
      },
      "execution_count": 20,
      "outputs": [
        {
          "output_type": "stream",
          "name": "stdout",
          "text": [
            "4\n",
            "16\n"
          ]
        }
      ]
    },
    {
      "cell_type": "code",
      "source": [
        "\n",
        "def myFun(x):\n",
        "    x[0] = 20\n",
        "lst = [10, 11, 12, 13]\n",
        "myFun(lst)\n",
        "print(lst)\n",
        "def myFun2(x):\n",
        "    x = 20\n",
        "\n",
        "a = 10\n",
        "myFun2(a)\n",
        "print(a)"
      ],
      "metadata": {
        "colab": {
          "base_uri": "https://localhost:8080/"
        },
        "id": "O4tvDRxDU6aa",
        "outputId": "13cb0e95-2a41-45dd-db91-6e4f988b2ca4"
      },
      "execution_count": 21,
      "outputs": [
        {
          "output_type": "stream",
          "name": "stdout",
          "text": [
            "[20, 11, 12, 13]\n",
            "10\n"
          ]
        }
      ]
    }
  ]
}